{
 "cells": [
  {
   "cell_type": "markdown",
   "metadata": {},
   "source": [
    "# Recursive Fibonacci Program"
   ]
  },
  {
   "cell_type": "code",
   "execution_count": 7,
   "metadata": {},
   "outputs": [
    {
     "name": "stdout",
     "output_type": "stream",
     "text": [
      "Enter the number to find Fibonacci :-  5\n",
      "fib( 5 ) ==  5\n"
     ]
    }
   ],
   "source": [
    "def fib(N): \n",
    "    if N==0: \n",
    "        return 0\n",
    "    elif N==1: \n",
    "        return 1\n",
    "    else: \n",
    "        return fib(N-1)+fib(N-2) \n",
    "  \n",
    "# Driver Program \n",
    "  \n",
    "N=int(input(\"Enter the number to find Fibonacci :-  \"))\n",
    "c=fib(N)\n",
    "print('fib(',N,') == ',c)"
   ]
  },
  {
   "cell_type": "code",
   "execution_count": null,
   "metadata": {},
   "outputs": [],
   "source": []
  }
 ],
 "metadata": {
  "kernelspec": {
   "display_name": "Python 3",
   "language": "python",
   "name": "python3"
  },
  "language_info": {
   "codemirror_mode": {
    "name": "ipython",
    "version": 3
   },
   "file_extension": ".py",
   "mimetype": "text/x-python",
   "name": "python",
   "nbconvert_exporter": "python",
   "pygments_lexer": "ipython3",
   "version": "3.7.6"
  }
 },
 "nbformat": 4,
 "nbformat_minor": 4
}
